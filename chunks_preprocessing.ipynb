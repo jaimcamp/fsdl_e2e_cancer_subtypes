{
 "cells": [
  {
   "cell_type": "code",
   "execution_count": 17,
   "id": "40a0e5a9-a0f5-4a6a-8446-a4289863f7d9",
   "metadata": {},
   "outputs": [],
   "source": [
    "import pandas as pd\n",
    "from glob import glob\n",
    "import numpy as np\n",
    "from pathlib import Path"
   ]
  },
  {
   "cell_type": "code",
   "execution_count": 18,
   "id": "f7a4697e-b98d-4502-80b6-d75eb3590b53",
   "metadata": {},
   "outputs": [],
   "source": [
    "list_files = glob('phenodash/data/raw/*.txt')\n",
    "chunks = np.array_split(list_files, 10)"
   ]
  },
  {
   "cell_type": "code",
   "execution_count": 20,
   "id": "38823368-85ab-4a5d-bbf0-cae02ec829f3",
   "metadata": {},
   "outputs": [],
   "source": [
    "for ix, chunk in enumerate(chunks):\n",
    "    tmp_df = pd.concat((pd.read_table(filename, delimiter='\\t', header=None, index_col=0).transpose() for filename in chunk), axis=0)\n",
    "    tmp_df.set_index(pd.Series([Path(x).with_suffix('').stem for  x in chunk]), inplace=True)\n",
    "    tmp_df.to_parquet(f\"phenodash/data/interim/chunk{ix}.parquet\")\n",
    "    del tmp_df\n",
    "    "
   ]
  },
  {
   "cell_type": "code",
   "execution_count": null,
   "id": "9423b6a5-7534-4c46-b739-ee5c3c00b2e4",
   "metadata": {},
   "outputs": [],
   "source": []
  }
 ],
 "metadata": {
  "kernelspec": {
   "display_name": "Python 3",
   "language": "python",
   "name": "python3"
  },
  "language_info": {
   "codemirror_mode": {
    "name": "ipython",
    "version": 3
   },
   "file_extension": ".py",
   "mimetype": "text/x-python",
   "name": "python",
   "nbconvert_exporter": "python",
   "pygments_lexer": "ipython3",
   "version": "3.8.8"
  }
 },
 "nbformat": 4,
 "nbformat_minor": 5
}
