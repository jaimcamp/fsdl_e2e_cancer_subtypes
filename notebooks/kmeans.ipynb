{
 "cells": [
  {
   "cell_type": "code",
   "execution_count": 1,
   "id": "f814ffe8-d32a-433d-9d93-231b9fab9f7b",
   "metadata": {},
   "outputs": [
    {
     "name": "stdout",
     "output_type": "stream",
     "text": [
      "/home/tugash/Documents/gt-explorer\n"
     ]
    }
   ],
   "source": [
    "%cd .."
   ]
  },
  {
   "cell_type": "code",
   "execution_count": 2,
   "id": "d3657873-3717-42b8-8dfd-85c23b04ee47",
   "metadata": {},
   "outputs": [],
   "source": [
    "import torch\n",
    "from torch import nn\n",
    "from torch.utils.data import DataLoader, TensorDataset\n",
    "from sklearn.cluster import KMeans, DBSCAN\n",
    "import pandas as pd\n",
    "import numpy as np\n",
    "from matplotlib import pyplot as plt\n",
    "from sklearn.preprocessing import StandardScaler\n",
    "from sklearn import metrics"
   ]
  },
  {
   "cell_type": "code",
   "execution_count": 3,
   "id": "83a3c67b-b0ae-4fa6-a993-3fda6ebfa70a",
   "metadata": {},
   "outputs": [],
   "source": [
    "# Load Data"
   ]
  },
  {
   "cell_type": "code",
   "execution_count": 4,
   "id": "a62d36f4-4e6c-41f8-8f34-1de8b5a9cfa9",
   "metadata": {},
   "outputs": [],
   "source": [
    "data_X = torch.load(\"data/processed/mini_dataset.pt\").numpy()\n",
    "data_y = torch.load(\"data/processed/mini_data_y.pt\").numpy()"
   ]
  },
  {
   "cell_type": "code",
   "execution_count": 5,
   "id": "60208404-1c6f-417a-8cf0-d2a608dcc792",
   "metadata": {},
   "outputs": [],
   "source": [
    "# Run Kmeans"
   ]
  },
  {
   "cell_type": "code",
   "execution_count": 6,
   "id": "9be00b11-474e-4349-87ba-c5d1cdc94017",
   "metadata": {},
   "outputs": [],
   "source": [
    "X_std = StandardScaler().fit_transform(data_X)"
   ]
  },
  {
   "cell_type": "code",
   "execution_count": 7,
   "id": "842e3c48-7f25-4d1c-a411-471f54a1462b",
   "metadata": {},
   "outputs": [
    {
     "data": {
      "text/plain": [
       "(array([ 0,  1,  2,  3,  4,  5,  6,  7,  8,  9, 10, 11, 12, 14, 15, 16, 17,\n",
       "        18, 19, 20, 21, 22, 23, 24, 25, 26, 27, 28, 29, 30, 31, 32],\n",
       "       dtype=int8),\n",
       " array([ 38, 200, 551, 149,  22, 218,  22,  74,  80, 259,  44, 251, 155,\n",
       "        250, 197, 263, 253,  33, 117,  79,  95, 280,  76, 119, 217, 191,\n",
       "         76, 279,  60, 281,  28,  43]))"
      ]
     },
     "execution_count": 7,
     "metadata": {},
     "output_type": "execute_result"
    }
   ],
   "source": [
    "np.unique(data_y, return_counts=True)"
   ]
  },
  {
   "cell_type": "code",
   "execution_count": 8,
   "id": "7db15b9f-0690-47c2-b18c-89903c7d8838",
   "metadata": {},
   "outputs": [
    {
     "name": "stdout",
     "output_type": "stream",
     "text": [
      "Loop number 20\n",
      "Loop number 21\n",
      "Loop number 22\n",
      "Loop number 23\n",
      "Loop number 24\n",
      "Loop number 25\n",
      "Loop number 26\n",
      "Loop number 27\n",
      "Loop number 28\n",
      "Loop number 29\n",
      "Loop number 30\n",
      "Loop number 31\n",
      "Loop number 32\n",
      "Loop number 33\n",
      "Loop number 34\n",
      "Loop number 35\n",
      "Loop number 36\n",
      "Loop number 37\n",
      "Loop number 38\n",
      "Loop number 39\n"
     ]
    },
    {
     "name": "stderr",
     "output_type": "stream",
     "text": [
      "/home/tugash/miniconda3/envs/gtexplorer/lib/python3.9/site-packages/pandas/plotting/_matplotlib/__init__.py:61: UserWarning: To output multiple subplots, the figure containing the passed axes is being cleared\n",
      "  plot_obj.generate()\n"
     ]
    },
    {
     "data": {
      "text/plain": [
       "array([[<AxesSubplot:xlabel='k'>, <AxesSubplot:xlabel='k'>],\n",
       "       [<AxesSubplot:xlabel='k'>, <AxesSubplot:xlabel='k'>]], dtype=object)"
      ]
     },
     "execution_count": 8,
     "metadata": {},
     "output_type": "execute_result"
    },
    {
     "data": {
      "image/png": "[encoded data removed]",
      "text/plain": [
       "<Figure size 432x288 with 4 Axes>"
      ]
     },
     "metadata": {
      "needs_background": "light"
     },
     "output_type": "display_data"
    }
   ],
   "source": [
    "inertias = []\n",
    "sils = []\n",
    "chs = []\n",
    "dbs = []\n",
    "sizes = range(20, 40)\n",
    "for k in sizes:\n",
    "    print(f\"Loop number {k}\")\n",
    "    k2 = KMeans(random_state=42, n_clusters=k)\n",
    "    k2.fit(X_std)\n",
    "    inertias.append(k2.inertia_)\n",
    "    sils.append(\n",
    "        metrics.silhouette_score(data_y.reshape(-1,1), k2.labels_)\n",
    "    )\n",
    "    chs.append(\n",
    "        metrics.calinski_harabasz_score(\n",
    "            data_y.reshape(-1,1), k2.labels_\n",
    "        )\n",
    "    )\n",
    "    dbs.append(\n",
    "        metrics.davies_bouldin_score(\n",
    "            data_y.reshape(-1,1), k2.labels_\n",
    "        )\n",
    "    )\n",
    "fig, ax = plt.subplots(figsize=(6, 4))\n",
    "(\n",
    "    pd.DataFrame(\n",
    "        {\n",
    "            \"inertia\": inertias,\n",
    "            \"silhouette\": sils,\n",
    "            \"calinski\": chs,\n",
    "            \"davis\": dbs,\n",
    "            \"k\": sizes,\n",
    "        }\n",
    "    )\n",
    "    .set_index(\"k\")\n",
    "    .plot(ax=ax, subplots=True, layout=(2, 2))\n",
    ")"
   ]
  },
  {
   "cell_type": "code",
   "execution_count": 9,
   "id": "b4151f0d-58cd-41b6-a91f-84c005fbbf9e",
   "metadata": {},
   "outputs": [
    {
     "name": "stdout",
     "output_type": "stream",
     "text": [
      "blas_info:\n",
      "    libraries = ['cblas', 'blas', 'cblas', 'blas']\n",
      "    library_dirs = ['/home/tugash/miniconda3/envs/gtexplorer/lib']\n",
      "    include_dirs = ['/home/tugash/miniconda3/envs/gtexplorer/include']\n",
      "    language = c\n",
      "    define_macros = [('HAVE_CBLAS', None)]\n",
      "blas_opt_info:\n",
      "    define_macros = [('NO_ATLAS_INFO', 1), ('HAVE_CBLAS', None)]\n",
      "    libraries = ['cblas', 'blas', 'cblas', 'blas']\n",
      "    library_dirs = ['/home/tugash/miniconda3/envs/gtexplorer/lib']\n",
      "    include_dirs = ['/home/tugash/miniconda3/envs/gtexplorer/include']\n",
      "    language = c\n",
      "lapack_info:\n",
      "    libraries = ['lapack', 'blas', 'lapack', 'blas']\n",
      "    library_dirs = ['/home/tugash/miniconda3/envs/gtexplorer/lib']\n",
      "    language = f77\n",
      "lapack_opt_info:\n",
      "    libraries = ['lapack', 'blas', 'lapack', 'blas', 'cblas', 'blas', 'cblas', 'blas']\n",
      "    library_dirs = ['/home/tugash/miniconda3/envs/gtexplorer/lib']\n",
      "    language = c\n",
      "    define_macros = [('NO_ATLAS_INFO', 1), ('HAVE_CBLAS', None)]\n",
      "    include_dirs = ['/home/tugash/miniconda3/envs/gtexplorer/include']\n"
     ]
    }
   ],
   "source": [
    "np.__config__.show()"
   ]
  },
  {
   "cell_type": "code",
   "execution_count": null,
   "id": "abd0eb07-5778-4d9d-a05d-b658fc1c4362",
   "metadata": {},
   "outputs": [],
   "source": []
  }
 ],
 "metadata": {
  "jupytext": {
   "formats": "ipynb,py:percent"
  },
  "kernelspec": {
   "display_name": "Python 3",
   "language": "python",
   "name": "python3"
  },
  "language_info": {
   "codemirror_mode": {
    "name": "ipython",
    "version": 3
   },
   "file_extension": ".py",
   "mimetype": "text/x-python",
   "name": "python",
   "nbconvert_exporter": "python",
   "pygments_lexer": "ipython3",
   "version": "3.9.2"
  }
 },
 "nbformat": 4,
 "nbformat_minor": 5
}
