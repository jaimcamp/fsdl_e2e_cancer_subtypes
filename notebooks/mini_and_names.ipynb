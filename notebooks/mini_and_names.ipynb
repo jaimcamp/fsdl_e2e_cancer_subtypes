{
 "cells": [
  {
   "cell_type": "code",
   "execution_count": 4,
   "id": "45a8f835-fbd0-4b23-9db0-09e70077b458",
   "metadata": {},
   "outputs": [
    {
     "name": "stdout",
     "output_type": "stream",
     "text": [
      "/home/tugash/Documents/gt-explorer\n"
     ]
    }
   ],
   "source": [
    "import pandas as pd\n",
    "import torch\n",
    "import os\n",
    "%cd ~/Documents/gt-explorer/"
   ]
  },
  {
   "cell_type": "code",
   "execution_count": 5,
   "id": "d671dd60-bfa4-4879-a1ce-261e95dd870d",
   "metadata": {},
   "outputs": [],
   "source": [
    "data = pd.read_parquet(\"data/processed/complete_dataset.parquet\")\n",
    "#torch.save(torch.tensor(data.values), \"data/processed/complete_dataset.pt\")"
   ]
  },
  {
   "cell_type": "code",
   "execution_count": null,
   "id": "a6ea0e20-ac33-4ee5-883f-ace61f9f4fed",
   "metadata": {},
   "outputs": [],
   "source": [
    "mini = data.iloc[:5000]\n",
    "del data\n",
    "torch.save(torch.tensor(mini.values), \"data/processed/mini_dataset.pt\")\n",
    "mini.to_parquet(\"data/processed/mini_dataset.parquet\")"
   ]
  },
  {
   "cell_type": "code",
   "execution_count": 5,
   "id": "894e6bf8-31c4-415b-b64f-62464090fbd7",
   "metadata": {},
   "outputs": [],
   "source": [
    "import json\n",
    "with open('data/external/files.2021-04-24.json') as f:\n",
    "    names = json.load(f)\n",
    "\n",
    "file_information = pd.json_normalize(names,record_path=['cases'], meta=['file_name'])\n",
    "\n",
    "file_information[\"file_name\"] = [x.replace('.FPKM.txt.gz', '') for x in file_information[\"file_name\"]]"
   ]
  },
  {
   "cell_type": "code",
   "execution_count": 6,
   "id": "7f2c6ade-7ff6-4917-bc06-1c7e95e515f7",
   "metadata": {},
   "outputs": [],
   "source": [
    "data = pd.read_parquet(\"data/processed/complete_dataset.parquet\")\n",
    "\n",
    "rownames = pd.DataFrame({\"rownames\" : data.index.to_list()})"
   ]
  },
  {
   "cell_type": "code",
   "execution_count": 7,
   "id": "8ef1551c-faee-400c-8fdd-ef4b0662b6f6",
   "metadata": {},
   "outputs": [],
   "source": [
    "rownames = pd.merge(rownames, file_information, how=\"left\", left_on='rownames', right_on='file_name')"
   ]
  },
  {
   "cell_type": "code",
   "execution_count": 62,
   "id": "1558d0c4-a4c2-4f47-b655-b7bbe2e261ec",
   "metadata": {},
   "outputs": [],
   "source": [
    "rownames.to_parquet(\"data/processed/rownames.parquet\")"
   ]
  },
  {
   "cell_type": "code",
   "execution_count": 64,
   "id": "614e9f7b-bb6a-480e-9c84-b6bfd0d9b867",
   "metadata": {},
   "outputs": [],
   "source": [
    "rownames['project.project_id'] = pd.Categorical(rownames['project.project_id'])"
   ]
  },
  {
   "cell_type": "code",
   "execution_count": 69,
   "id": "23d3b15b-1fc3-46ad-817e-15a966ea77c8",
   "metadata": {},
   "outputs": [
    {
     "data": {
      "text/plain": [
       "array(['TCGA-PRAD', 'TCGA-ESCA', 'TCGA-UVM', ..., 'TCGA-LAML',\n",
       "       'TCGA-LUSC', 'TCGA-LAML'], dtype=object)"
      ]
     },
     "execution_count": 69,
     "metadata": {},
     "output_type": "execute_result"
    }
   ],
   "source": [
    "rownames['project.project_id'].to_numpy()"
   ]
  },
  {
   "cell_type": "code",
   "execution_count": 73,
   "id": "1a80aa60-efbe-4415-9610-08d05ed799ac",
   "metadata": {},
   "outputs": [],
   "source": [
    "torch.save(torch.tensor(rownames['project.project_id'].cat.codes), \"data/processed/data_y.pt\")"
   ]
  },
  {
   "cell_type": "code",
   "execution_count": null,
   "id": "524256ad-fb68-418c-8d8d-81d14e7a2c1a",
   "metadata": {},
   "outputs": [],
   "source": [
    "torch.save(torch.tensor(rownames['project.project_id'].cat.codes), \"data/processed/mini_data_y.pt\")"
   ]
  }
 ],
 "metadata": {
  "kernelspec": {
   "display_name": "Python 3",
   "language": "python",
   "name": "python3"
  },
  "language_info": {
   "codemirror_mode": {
    "name": "ipython",
    "version": 3
   },
   "file_extension": ".py",
   "mimetype": "text/x-python",
   "name": "python",
   "nbconvert_exporter": "python",
   "pygments_lexer": "ipython3",
   "version": "3.8.8"
  }
 },
 "nbformat": 4,
 "nbformat_minor": 5
}
