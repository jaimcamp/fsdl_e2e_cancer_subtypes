{
 "cells": [
  {
   "cell_type": "code",
   "execution_count": 1,
   "id": "6f91bc94-706d-42e1-8b69-0b3ace3b97e1",
   "metadata": {},
   "outputs": [],
   "source": [
    "import torch\n",
    "import torchvision as vision\n",
    "from torch.utils.data import DataLoader, TensorDataset\n",
    "from sklearn.cluster import DBSCAN\n",
    "from torch import nn"
   ]
  },
  {
   "cell_type": "code",
   "execution_count": 2,
   "id": "cb5400dd-aa92-4af4-b8c6-f118d524c949",
   "metadata": {},
   "outputs": [],
   "source": [
    "device = torch.device('cuda')"
   ]
  },
  {
   "cell_type": "code",
   "execution_count": 3,
   "id": "f690cd99-52cc-4cfa-bf38-874ef723dd7e",
   "metadata": {},
   "outputs": [],
   "source": [
    "data = torch.load(\"data/processed/mini_dataset.pt\", device)"
   ]
  },
  {
   "cell_type": "code",
   "execution_count": 4,
   "id": "2e5101f0-a00e-4830-88c3-d97f87abcea0",
   "metadata": {},
   "outputs": [
    {
     "data": {
      "text/plain": [
       "torch.Size([5000, 60483])"
      ]
     },
     "execution_count": 4,
     "metadata": {},
     "output_type": "execute_result"
    }
   ],
   "source": [
    "data.shape"
   ]
  },
  {
   "cell_type": "code",
   "execution_count": 5,
   "id": "5fb6e8ea-0642-40d7-82ef-0ea31ca6418b",
   "metadata": {},
   "outputs": [],
   "source": [
    "data_y = torch.load(\"data/processed/mini_data_y.pt\", device)"
   ]
  },
  {
   "cell_type": "code",
   "execution_count": 6,
   "id": "0b4d862b-6036-4f47-b2fb-fafded4431cf",
   "metadata": {},
   "outputs": [],
   "source": [
    "data_set = TensorDataset(data.float(), data_y.long())"
   ]
  },
  {
   "cell_type": "code",
   "execution_count": 13,
   "id": "ba038ce7-5e40-401b-9214-ebe18b52b373",
   "metadata": {},
   "outputs": [],
   "source": [
    "train_batches = DataLoader(data_set, batch_size=500, shuffle=True)"
   ]
  },
  {
   "cell_type": "code",
   "execution_count": 16,
   "id": "1130f95e-a771-4eb9-aeab-4bc8f1298674",
   "metadata": {},
   "outputs": [
    {
     "data": {
      "text/plain": [
       "tensor(17300, device='cuda:0')"
      ]
     },
     "execution_count": 16,
     "metadata": {},
     "output_type": "execute_result"
    }
   ],
   "source": [
    "sum(data.var(dim=0) < 1e-2)"
   ]
  },
  {
   "cell_type": "code",
   "execution_count": 8,
   "id": "e767aeaa-d87c-4c4d-a667-2c5815e34080",
   "metadata": {},
   "outputs": [],
   "source": [
    "class NeuralNetwork(nn.Module):\n",
    "    def __init__(self):\n",
    "        super(NeuralNetwork, self).__init__()\n",
    "#         self.flatten = nn.Flatten()\n",
    "        self.linear_relu_stack = nn.Sequential(\n",
    "            nn.Linear(60483, 512),\n",
    "            nn.ReLU(),\n",
    "            nn.Linear(512, 512),\n",
    "            nn.ReLU(),\n",
    "            nn.Linear(512, 10),\n",
    "            nn.ReLU()\n",
    "        )\n",
    "\n",
    "    def forward(self, x):\n",
    "#         x = self.flatten(x)\n",
    "        logits = self.linear_relu_stack(x)\n",
    "        return logits"
   ]
  },
  {
   "cell_type": "code",
   "execution_count": 11,
   "id": "9b6c29bc-15b9-4e67-b7c0-52ac67269aa3",
   "metadata": {},
   "outputs": [
    {
     "name": "stdout",
     "output_type": "stream",
     "text": [
      "NeuralNetwork(\n",
      "  (linear_relu_stack): Sequential(\n",
      "    (0): Linear(in_features=60483, out_features=512, bias=True)\n",
      "    (1): ReLU()\n",
      "    (2): Linear(in_features=512, out_features=512, bias=True)\n",
      "    (3): ReLU()\n",
      "    (4): Linear(in_features=512, out_features=10, bias=True)\n",
      "    (5): ReLU()\n",
      "  )\n",
      ")\n"
     ]
    }
   ],
   "source": [
    "model = NeuralNetwork().to(device)\n",
    "print(model)"
   ]
  },
  {
   "cell_type": "code",
   "execution_count": 24,
   "id": "1db2f0d0-86f0-4588-afca-a4912251d8ea",
   "metadata": {},
   "outputs": [
    {
     "name": "stdout",
     "output_type": "stream",
     "text": [
      "Predicted class: tensor([3, 3, 3,  ..., 3, 3, 3], device='cuda:0')\n"
     ]
    }
   ],
   "source": [
    "logits = model(data.float())\n",
    "pred_probab = nn.Softmax(dim=1)(logits)\n",
    "y_pred = pred_probab.argmax(1)\n",
    "print(f\"Predicted class: {y_pred}\")\n"
   ]
  },
  {
   "cell_type": "code",
   "execution_count": 29,
   "id": "7362f922-ecf1-4930-9251-7ad6f0e7b5a7",
   "metadata": {},
   "outputs": [
    {
     "name": "stdout",
     "output_type": "stream",
     "text": [
      "Layer: linear_relu_stack.0.weight | Size: torch.Size([512, 60483]) | Values : tensor([[ 0.0040,  0.0016, -0.0030,  ...,  0.0001, -0.0010,  0.0033],\n",
      "        [ 0.0008,  0.0025,  0.0029,  ...,  0.0037,  0.0017,  0.0003]],\n",
      "       device='cuda:0', grad_fn=<SliceBackward>) \n",
      "\n",
      "Layer: linear_relu_stack.0.bias | Size: torch.Size([512]) | Values : tensor([ 0.0013, -0.0021], device='cuda:0', grad_fn=<SliceBackward>) \n",
      "\n",
      "Layer: linear_relu_stack.2.weight | Size: torch.Size([512, 512]) | Values : tensor([[ 0.0060, -0.0316, -0.0224,  ..., -0.0084,  0.0358,  0.0067],\n",
      "        [ 0.0336, -0.0095,  0.0209,  ...,  0.0296,  0.0317, -0.0426]],\n",
      "       device='cuda:0', grad_fn=<SliceBackward>) \n",
      "\n",
      "Layer: linear_relu_stack.2.bias | Size: torch.Size([512]) | Values : tensor([0.0421, 0.0391], device='cuda:0', grad_fn=<SliceBackward>) \n",
      "\n",
      "Layer: linear_relu_stack.4.weight | Size: torch.Size([10, 512]) | Values : tensor([[-0.0198, -0.0364, -0.0046,  ..., -0.0296, -0.0424,  0.0372],\n",
      "        [ 0.0357, -0.0122, -0.0193,  ..., -0.0388, -0.0370, -0.0013]],\n",
      "       device='cuda:0', grad_fn=<SliceBackward>) \n",
      "\n",
      "Layer: linear_relu_stack.4.bias | Size: torch.Size([10]) | Values : tensor([-0.0154, -0.0272], device='cuda:0', grad_fn=<SliceBackward>) \n",
      "\n"
     ]
    }
   ],
   "source": [
    "\n",
    "for name, param in model.named_parameters():\n",
    "    print(f\"Layer: {name} | Size: {param.size()} | Values : {param[:2]} \\n\")"
   ]
  },
  {
   "cell_type": "code",
   "execution_count": 9,
   "id": "9d54174c-0782-4ed3-822d-500622f48e02",
   "metadata": {},
   "outputs": [],
   "source": [
    "def train_loop(dataloader, model, loss_fn, optimizer):\n",
    "    size = len(dataloader.dataset)\n",
    "    for batch, (X, y) in enumerate(dataloader):\n",
    "        # Compute prediction and loss\n",
    "        pred = model(X)\n",
    "        loss = loss_fn(pred, y)\n",
    "\n",
    "        # Backpropagation\n",
    "        optimizer.zero_grad()\n",
    "        loss.backward()\n",
    "        optimizer.step()\n",
    "\n",
    "        if batch % 100 == 0:\n",
    "            loss, current = loss.item(), batch * len(X)\n",
    "            print(f\"loss: {loss:>7f}  [{current:>5d}/{size:>5d}]\")\n",
    "\n",
    "\n",
    "def test_loop(dataloader, model, loss_fn):\n",
    "    size = len(dataloader.dataset)\n",
    "    test_loss, correct = 0, 0\n",
    "\n",
    "    with torch.no_grad():\n",
    "        for X, y in dataloader:\n",
    "            pred = model(X)\n",
    "            test_loss += loss_fn(pred, y).item()\n",
    "            correct += (pred.argmax(1) == y).type(torch.float).sum().item()\n",
    "\n",
    "    test_loss /= size\n",
    "    correct /= size\n",
    "    print(f\"Test Error: \\n Accuracy: {(100*correct):>0.1f}%, Avg loss: {test_loss:>8f} \\n\")"
   ]
  },
  {
   "cell_type": "code",
   "execution_count": 14,
   "id": "bcc17580-4d6d-4416-82bd-9564cb5f0f9d",
   "metadata": {},
   "outputs": [
    {
     "name": "stdout",
     "output_type": "stream",
     "text": [
      "Epoch 1\n",
      "-------------------------------\n",
      "loss: 2.294865  [    0/ 5000]\n",
      "Epoch 2\n",
      "-------------------------------\n",
      "loss:     inf  [    0/ 5000]\n",
      "Epoch 3\n",
      "-------------------------------\n",
      "loss: 2.302585  [    0/ 5000]\n",
      "Epoch 4\n",
      "-------------------------------\n",
      "loss: 2.302585  [    0/ 5000]\n",
      "Epoch 5\n",
      "-------------------------------\n",
      "loss: 2.293375  [    0/ 5000]\n",
      "Epoch 6\n",
      "-------------------------------\n",
      "loss: 2.297980  [    0/ 5000]\n",
      "Epoch 7\n",
      "-------------------------------\n",
      "loss: 2.302585  [    0/ 5000]\n",
      "Epoch 8\n",
      "-------------------------------\n",
      "loss: 2.302585  [    0/ 5000]\n",
      "Epoch 9\n",
      "-------------------------------\n",
      "loss: 2.288769  [    0/ 5000]\n",
      "Epoch 10\n",
      "-------------------------------\n",
      "loss: 2.293375  [    0/ 5000]\n",
      "Done!\n"
     ]
    }
   ],
   "source": [
    "# Initialize the loss function\n",
    "loss_fn = nn.CrossEntropyLoss()\n",
    "\n",
    "optimizer = torch.optim.SGD(model.parameters(), lr=1e-3)\n",
    "epochs = 10\n",
    "for t in range(epochs):\n",
    "    print(f\"Epoch {t+1}\\n-------------------------------\")\n",
    "    train_loop(train_batches, model, loss_fn, optimizer)\n",
    "#     test_loop(test_dataloader, model, loss_fn)\n",
    "print(\"Done!\")"
   ]
  },
  {
   "cell_type": "code",
   "execution_count": null,
   "id": "784e45ba-2be1-4ff2-9552-6b79af28f2fa",
   "metadata": {},
   "outputs": [],
   "source": []
  }
 ],
 "metadata": {
  "jupytext": {
   "formats": "ipynb,auto:percent"
  },
  "kernelspec": {
   "display_name": "Python 3",
   "language": "python",
   "name": "python3"
  },
  "language_info": {
   "codemirror_mode": {
    "name": "ipython",
    "version": 3
   },
   "file_extension": ".py",
   "mimetype": "text/x-python",
   "name": "python",
   "nbconvert_exporter": "python",
   "pygments_lexer": "ipython3",
   "version": "3.9.2"
  }
 },
 "nbformat": 4,
 "nbformat_minor": 5
}
