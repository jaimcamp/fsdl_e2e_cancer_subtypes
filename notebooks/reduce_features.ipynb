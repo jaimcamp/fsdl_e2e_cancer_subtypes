{
 "cells": [
  {
   "cell_type": "code",
   "execution_count": 3,
   "id": "fa695292-e790-48be-be5e-039af1172188",
   "metadata": {},
   "outputs": [
    {
     "name": "stdout",
     "output_type": "stream",
     "text": [
      "/home/tugash/Documents/gt-explorer\n"
     ]
    }
   ],
   "source": [
    "%cd .."
   ]
  },
  {
   "cell_type": "code",
   "execution_count": 34,
   "id": "d3707809-21f5-4968-a348-03a5ccb7a1e9",
   "metadata": {},
   "outputs": [],
   "source": [
    "import torch\n",
    "import seaborn as sn\n",
    "from sklearn.feature_selection import VarianceThreshold"
   ]
  },
  {
   "cell_type": "code",
   "execution_count": null,
   "id": "3bba9d61-572b-4d9c-9cd5-e2fbaa13baee",
   "metadata": {},
   "outputs": [],
   "source": [
    "sn.histplot(torch.var(data_X, 0))"
   ]
  },
  {
   "cell_type": "code",
   "execution_count": 5,
   "id": "52286594-f4e9-4f5b-9def-5e7758eaba4f",
   "metadata": {},
   "outputs": [],
   "source": [
    "data_X = torch.load(\"data/processed/mini_dataset.pt\")\n"
   ]
  },
  {
   "cell_type": "code",
   "execution_count": 33,
   "id": "f22198ed-09aa-41a4-ad4a-7d84cd19b27e",
   "metadata": {},
   "outputs": [
    {
     "data": {
      "text/plain": [
       "tensor(0.1225, dtype=torch.float64)"
      ]
     },
     "execution_count": 33,
     "metadata": {},
     "output_type": "execute_result"
    }
   ],
   "source": [
    "torch.var(data_X, 0).median()"
   ]
  },
  {
   "cell_type": "code",
   "execution_count": 30,
   "id": "fc4189c9-4a22-41a7-a75d-5229668217e5",
   "metadata": {},
   "outputs": [],
   "source": [
    "selector = VarianceThreshold(threshold=1e-2)"
   ]
  },
  {
   "cell_type": "code",
   "execution_count": 31,
   "id": "a0700d33-f112-475e-90ee-a29c80dd5d36",
   "metadata": {},
   "outputs": [
    {
     "data": {
      "text/plain": [
       "(5000, 43183)"
      ]
     },
     "execution_count": 31,
     "metadata": {},
     "output_type": "execute_result"
    }
   ],
   "source": [
    "selector.fit_transform(data_X.numpy()).shape"
   ]
  },
  {
   "cell_type": "code",
   "execution_count": 22,
   "id": "ce10ea84-ab92-45dc-9432-030f80779b0b",
   "metadata": {},
   "outputs": [
    {
     "data": {
      "text/plain": [
       "array([[0.00000000e+00, 9.55895426e-03, 2.97554076e+00, ...,\n",
       "        0.00000000e+00, 9.37517429e-01, 0.00000000e+00],\n",
       "       [3.62488786e-02, 2.26334116e-02, 2.47757448e+00, ...,\n",
       "        0.00000000e+00, 3.84200702e-01, 0.00000000e+00],\n",
       "       [0.00000000e+00, 0.00000000e+00, 4.06411563e+00, ...,\n",
       "        0.00000000e+00, 3.89636940e-01, 0.00000000e+00],\n",
       "       ...,\n",
       "       [2.54232511e-02, 2.82204546e-02, 4.25472992e+00, ...,\n",
       "        0.00000000e+00, 1.86293488e-01, 0.00000000e+00],\n",
       "       [0.00000000e+00, 3.49450749e-03, 4.34658238e+00, ...,\n",
       "        0.00000000e+00, 3.36141222e-01, 0.00000000e+00],\n",
       "       [0.00000000e+00, 3.30175515e-03, 4.83636181e+00, ...,\n",
       "        0.00000000e+00, 1.06489453e+00, 0.00000000e+00]])"
      ]
     },
     "execution_count": 22,
     "metadata": {},
     "output_type": "execute_result"
    }
   ],
   "source": [
    "data_X.numpy()"
   ]
  },
  {
   "cell_type": "code",
   "execution_count": null,
   "id": "1bf14601-6db8-464f-9b93-873ad945dbdb",
   "metadata": {},
   "outputs": [],
   "source": []
  }
 ],
 "metadata": {
  "kernelspec": {
   "display_name": "Python 3",
   "language": "python",
   "name": "python3"
  },
  "language_info": {
   "codemirror_mode": {
    "name": "ipython",
    "version": 3
   },
   "file_extension": ".py",
   "mimetype": "text/x-python",
   "name": "python",
   "nbconvert_exporter": "python",
   "pygments_lexer": "ipython3",
   "version": "3.9.2"
  }
 },
 "nbformat": 4,
 "nbformat_minor": 5
}
