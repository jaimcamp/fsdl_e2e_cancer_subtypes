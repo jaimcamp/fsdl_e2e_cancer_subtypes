{
 "cells": [
  {
   "cell_type": "code",
   "execution_count": 1,
   "id": "6f91bc94-706d-42e1-8b69-0b3ace3b97e1",
   "metadata": {},
   "outputs": [],
   "source": [
    "import torch\n",
    "import torchvision as vision\n",
    "from torch.utils.data import DataLoader, TensorDataset\n",
    "from sklearn.cluster import DBSCAN"
   ]
  },
  {
   "cell_type": "code",
   "execution_count": 2,
   "id": "cb5400dd-aa92-4af4-b8c6-f118d524c949",
   "metadata": {},
   "outputs": [],
   "source": [
    "device = torch.device('cuda')"
   ]
  },
  {
   "cell_type": "code",
   "execution_count": 3,
   "id": "f690cd99-52cc-4cfa-bf38-874ef723dd7e",
   "metadata": {},
   "outputs": [],
   "source": [
    "data = torch.load(\"data/processed/mid.pt\", device)"
   ]
  },
  {
   "cell_type": "code",
   "execution_count": 4,
   "id": "2e5101f0-a00e-4830-88c3-d97f87abcea0",
   "metadata": {},
   "outputs": [
    {
     "data": {
      "text/plain": [
       "torch.Size([8000, 60483])"
      ]
     },
     "execution_count": 4,
     "metadata": {},
     "output_type": "execute_result"
    }
   ],
   "source": [
    "data.shape"
   ]
  },
  {
   "cell_type": "code",
   "execution_count": 13,
   "id": "5fb6e8ea-0642-40d7-82ef-0ea31ca6418b",
   "metadata": {},
   "outputs": [],
   "source": [
    "data_y = torch.randint(3, (data.shape[0],), device=device)"
   ]
  },
  {
   "cell_type": "code",
   "execution_count": 14,
   "id": "0b4d862b-6036-4f47-b2fb-fafded4431cf",
   "metadata": {},
   "outputs": [],
   "source": [
    "data_set = TensorDataset(data, data_y)"
   ]
  },
  {
   "cell_type": "code",
   "execution_count": 15,
   "id": "fbb9818a-daaa-4494-82c9-731e87c1fa70",
   "metadata": {},
   "outputs": [
    {
     "data": {
      "text/plain": [
       "<torch.utils.data.dataset.TensorDataset at 0x7fcea71b9f70>"
      ]
     },
     "execution_count": 15,
     "metadata": {},
     "output_type": "execute_result"
    }
   ],
   "source": [
    "data_set"
   ]
  },
  {
   "cell_type": "code",
   "execution_count": 16,
   "id": "ba038ce7-5e40-401b-9214-ebe18b52b373",
   "metadata": {},
   "outputs": [],
   "source": [
    "train_batches = DataLoader(data_set, batch_size=1024, shuffle=True)"
   ]
  },
  {
   "cell_type": "code",
   "execution_count": 10,
   "id": "1130f95e-a771-4eb9-aeab-4bc8f1298674",
   "metadata": {},
   "outputs": [
    {
     "data": {
      "text/plain": [
       "tensor(9514, device='cuda:0')"
      ]
     },
     "execution_count": 10,
     "metadata": {},
     "output_type": "execute_result"
    }
   ],
   "source": [
    "sum(data.var(dim=0) < 1e-2)"
   ]
  },
  {
   "cell_type": "code",
   "execution_count": 1,
   "id": "374dbd21-ddf6-4dda-ab43-e024aa336c7d",
   "metadata": {},
   "outputs": [],
   "source": [
    "import pandas as pd"
   ]
  },
  {
   "cell_type": "code",
   "execution_count": null,
   "id": "168c7814-b8c4-4b99-81fb-2f594d810c80",
   "metadata": {},
   "outputs": [],
   "source": [
    "data = pd.read_parquet(\"data/processed/complete_dataset.parquet\")"
   ]
  },
  {
   "cell_type": "code",
   "execution_count": null,
   "id": "e767aeaa-d87c-4c4d-a667-2c5815e34080",
   "metadata": {},
   "outputs": [],
   "source": []
  }
 ],
 "metadata": {
  "kernelspec": {
   "display_name": "Python 3",
   "language": "python",
   "name": "python3"
  },
  "language_info": {
   "codemirror_mode": {
    "name": "ipython",
    "version": 3
   },
   "file_extension": ".py",
   "mimetype": "text/x-python",
   "name": "python",
   "nbconvert_exporter": "python",
   "pygments_lexer": "ipython3",
   "version": "3.8.8"
  }
 },
 "nbformat": 4,
 "nbformat_minor": 5
}
